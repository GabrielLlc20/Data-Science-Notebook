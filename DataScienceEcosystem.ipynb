{
 "cells": [
  {
   "cell_type": "markdown",
   "id": "14f10d10-1565-4eff-86f7-0421a38d6515",
   "metadata": {
    "tags": []
   },
   "source": [
    "# Data Science Tools and Ecosystem"
   ]
  },
  {
   "cell_type": "markdown",
   "id": "19861b54-9b31-4fdd-9d91-73105205338c",
   "metadata": {
    "tags": []
   },
   "source": [
    "# Data Science Tools and Ecosystem"
   ]
  },
  {
   "cell_type": "markdown",
   "id": "b258c522-5994-4162-9a1a-1843a098ef37",
   "metadata": {},
   "source": [
    "In this notebook, Data Science Tools and Ecosystem are summarized."
   ]
  },
  {
   "cell_type": "markdown",
   "id": "c8a06ca0-a40e-4553-814a-98dc8d916629",
   "metadata": {},
   "source": [
    "In this notebook, Data Science Tools and Ecosystem are summarized."
   ]
  },
  {
   "cell_type": "markdown",
   "id": "a7c2c1eb-8de6-49b5-adf3-64708d6e0a8e",
   "metadata": {
    "tags": []
   },
   "source": [
    "**Objectives:**\n",
    "- List popular languages for Data Science\n",
    "- Identify commonly used libraries in Data Science\n",
    "- Understand various Data Science tools\n",
    "- Provide examples of arithmetic expressions in Python\n",
    "- Convert minutes to hours using Python"
   ]
  },
  {
   "cell_type": "markdown",
   "id": "63d47899-2f8f-4f15-b2ce-bdfee343ea7b",
   "metadata": {
    "tags": []
   },
   "source": [
    "**Objectives:**\n",
    "- List popular languages for Data Science\n",
    "- Identify commonly used libraries in Data Science\n",
    "- Understand various Data Science tools\n",
    "- Provide examples of arithmetic expressions in Python\n",
    "- Convert minutes to hours using Python"
   ]
  },
  {
   "cell_type": "markdown",
   "id": "08d45116-6e9b-4381-b17a-f284b5729699",
   "metadata": {},
   "source": [
    "Some of the popular languages that Data Scientists use are:\n",
    "\n",
    "1. Python\n",
    "2. R\n",
    "3. SQL\n",
    "4. Julia\n",
    "5. Scala"
   ]
  },
  {
   "cell_type": "markdown",
   "id": "9a79bf63-aedf-4294-af37-37f2c164c338",
   "metadata": {},
   "source": [
    "Some of the popular languages that Data Scientists use are:\n",
    "\n",
    "1. Python\n",
    "2. R\n",
    "3. SQL\n",
    "4. Julia\n",
    "5. Scala"
   ]
  },
  {
   "cell_type": "markdown",
   "id": "b6eb20b6-204b-42f4-a477-c41f432f9543",
   "metadata": {},
   "source": [
    "Some of the commonly used libraries used by Data Scientists include:\n",
    "\n",
    "1. Pandas\n",
    "2. NumPy\n",
    "3. Matplotlib\n",
    "4. Scikit-learn\n",
    "5. TensorFlow"
   ]
  },
  {
   "cell_type": "markdown",
   "id": "3544349c-a1c3-4596-9995-4b99d8bef2a7",
   "metadata": {},
   "source": [
    "Some of the commonly used libraries used by Data Scientists include:\n",
    "\n",
    "1. Pandas\n",
    "2. NumPy\n",
    "3. Matplotlib\n",
    "4. Scikit-learn\n",
    "5. TensorFlow"
   ]
  },
  {
   "cell_type": "markdown",
   "id": "974b84b5-82d0-4177-94a9-00102b29fd68",
   "metadata": {},
   "source": [
    "| Data Science Tools           |\n",
    "|------------------------------|\n",
    "| Jupyter Notebook              |\n",
    "| RStudio                       |\n",
    "| Apache Zeppelin               |"
   ]
  },
  {
   "cell_type": "markdown",
   "id": "2e19faaa-9333-4a2f-afb4-817422fe0fa6",
   "metadata": {},
   "source": [
    "| Data Science Tools           |\n",
    "|------------------------------|\n",
    "| Jupyter Notebook              |\n",
    "| RStudio                       |\n",
    "| Apache Zeppelin               |"
   ]
  },
  {
   "cell_type": "markdown",
   "id": "082b4b05-d195-409e-a3f4-e4e30d75b247",
   "metadata": {},
   "source": [
    "### Below are a few examples of evaluating arithmetic expressions in Python."
   ]
  },
  {
   "cell_type": "markdown",
   "id": "c897b116-a77f-496c-8aff-9cd2892ffc72",
   "metadata": {},
   "source": [
    "### Below are a few examples of evaluating arithmetic expressions in Python."
   ]
  },
  {
   "cell_type": "code",
   "execution_count": 3,
   "id": "b9569398-4656-4fe3-9686-03b2c7252d48",
   "metadata": {
    "tags": []
   },
   "outputs": [
    {
     "name": "stdout",
     "output_type": "stream",
     "text": [
      "17\n"
     ]
    }
   ],
   "source": [
    "# This is a simple arithmetic expression to multiply then add integers.\n",
    "result = (3 * 4) + 5\n",
    "print(result)"
   ]
  },
  {
   "cell_type": "code",
   "execution_count": 2,
   "id": "ed581ae8-0bb9-4a6a-9a13-074354f01333",
   "metadata": {
    "tags": []
   },
   "outputs": [
    {
     "name": "stdout",
     "output_type": "stream",
     "text": [
      "3.3333333333333335\n"
     ]
    }
   ],
   "source": [
    "# This will convert 200 minutes to hours by dividing by 60.\n",
    "minutes = 200\n",
    "hours = minutes / 60\n",
    "print(hours)\n"
   ]
  },
  {
   "cell_type": "markdown",
   "id": "f5097fbb-0b2c-4ae9-84dd-766dd25cfeb4",
   "metadata": {},
   "source": [
    "## Author\n",
    "\n",
    "Gabriel"
   ]
  }
 ],
 "metadata": {
  "kernelspec": {
   "display_name": "Python",
   "language": "python",
   "name": "conda-env-python-py"
  },
  "language_info": {
   "codemirror_mode": {
    "name": "ipython",
    "version": 3
   },
   "file_extension": ".py",
   "mimetype": "text/x-python",
   "name": "python",
   "nbconvert_exporter": "python",
   "pygments_lexer": "ipython3",
   "version": "3.7.12"
  }
 },
 "nbformat": 4,
 "nbformat_minor": 5
}
